{
 "cells": [
  {
   "cell_type": "code",
   "execution_count": 2,
   "metadata": {
    "slideshow": {
     "slide_type": "skip"
    }
   },
   "outputs": [
    {
     "data": {
      "text/html": [
       "<link rel=\"stylesheet\" type=\"text/css\" href=\"custom.css\">\n"
      ],
      "text/plain": [
       "<IPython.core.display.HTML object>"
      ]
     },
     "metadata": {},
     "output_type": "display_data"
    }
   ],
   "source": [
    "%%HTML\n",
    "<link rel=\"stylesheet\" type=\"text/css\" href=\"custom.css\">"
   ]
  },
  {
   "cell_type": "code",
   "execution_count": 7,
   "metadata": {
    "slideshow": {
     "slide_type": "skip"
    }
   },
   "outputs": [
    {
     "name": "stderr",
     "output_type": "stream",
     "text": [
      "[NbConvertApp] Converting notebook /home/thagio/job/03_jfcr/mail/02_pgm/A Beginner's Guide Linux Plactice Chapter 1.ipynb to slides\n",
      "[NbConvertApp] Writing 294519 bytes to /home/thagio/job/03_jfcr/mail/02_pgm/A Beginner's Guide Linux Plactice Chapter 1.slides.html\n"
     ]
    }
   ],
   "source": [
    "%%sh\n",
    "jupyter nbconvert /home/thagio/job/03_jfcr/mail/02_pgm/A\\ Beginner\\'s\\ Guide\\ Linux\\ Plactice\\ Chapter\\ 1.ipynb --to slides --reveal-prefix ../reveal.js"
   ]
  },
  {
   "cell_type": "markdown",
   "metadata": {
    "slideshow": {
     "slide_type": "slide"
    }
   },
   "source": [
    "# Linux 実践入門 第1章\n",
    "---"
   ]
  },
  {
   "cell_type": "markdown",
   "metadata": {
    "slideshow": {
     "slide_type": "slide"
    }
   },
   "source": [
    "## 輪読のゴールと目的\n",
    "---\n",
    "### 目的  \n",
    "がん研究会様で稼働する上で、Linuxの知識は必要不可欠である。加えて、データ分析を行う上で、分析環境の構築、プログラムや環境のバグ対応、分析の生産性向上 etcに大きく寄与するため、Linuxの知識を習得すること。また、輪読により要点をまとめた資料を作成することで、効率的な記憶や理解を目指す\n",
    "### ゴール  \n",
    "『本気で学ぶ Linux実践入門　サーバ運用のための業務レベル管理術』の全章を理解し、LPIC1を取得すること。"
   ]
  },
  {
   "cell_type": "markdown",
   "metadata": {
    "slideshow": {
     "slide_type": "subslide"
    }
   },
   "source": [
    "## ラーニングピラミッド\n",
    "---\n",
    "\n",
    "<img src=\"fig/ラーニングピラミッド.png\" width=\"500\" height=\"100\">"
   ]
  },
  {
   "cell_type": "markdown",
   "metadata": {
    "slideshow": {
     "slide_type": "slide"
    }
   },
   "source": [
    "## 目次\n",
    "---\n",
    "1.1 Linux ディストリビューションを理解する  \n",
    "1.2 ~~CentOSをインストールする~~  \n",
    "1.3 ~~Ubuntuをインストールする~~  \n",
    "1.4 システムの初期設定を行う  \n",
    "1.5 sshによるリモートログイン  "
   ]
  },
  {
   "cell_type": "markdown",
   "metadata": {
    "slideshow": {
     "slide_type": "slide"
    }
   },
   "source": [
    "## 1.1 Linux ディストリビューションを理解する"
   ]
  },
  {
   "cell_type": "markdown",
   "metadata": {
    "slideshow": {
     "slide_type": "slide"
    }
   },
   "source": [
    "## オペレーティングシステムとは (以下OS)\n",
    "---\n",
    "- OSとは  \n",
    " - ハードウェアの機能を効率良く使用するためのソフトウェア  \n",
    "- OSの役割\n",
    " - OSはいくつかの機能を持ったプログラム群で構成されている。OSの最も基本的な機能は**カーネル**である。カーネルは、CPUの利用やメモリの管理等のハードウェアの管理をする。\n",
    "- アプリケーションの役割\n",
    " - アプリケーションとは、OSの機能を利用して動作する特定の目的を果たすために作成されたソフトウェアを示す。"
   ]
  },
  {
   "cell_type": "markdown",
   "metadata": {
    "slideshow": {
     "slide_type": "slide"
    }
   },
   "source": [
    "## Linuxオペレーティングシステムの構成\n",
    "---\n",
    "**Linux オペレーティングシステムはLinuxカーネル、ライブラリ、ユーザランドプログラムから構成される (ユーザーランドプログラムとは、OSに含まれるカーネル以外のプログラム)**\n",
    "<br>\n",
    "<p style=\"text-align:center;\">\n",
    "<img src=\"fig/Linuxオペレーティングシステムの構成.png\" width=\"600\" heigth=\"300\">"
   ]
  },
  {
   "cell_type": "markdown",
   "metadata": {
    "slideshow": {
     "slide_type": "subslide"
    }
   },
   "source": [
    "## Linux オペレーティングシステムの構成\n",
    "---\n",
    "- Linuxカーネル\n",
    "    - CPUの管理、メモリ管理、プロセス管理。OSの起動では最初にコンピュータシステムに読み込まれる。\n",
    "- ローダブルモジュール\n",
    "    - システム起動後、ディスクからカーネルのアドレス空間に読み込まれるカーネルモジュール\n",
    "    - 様々なメーカーのハードウェアに対応したドライバ等\n",
    "- ライブラリ\n",
    "    - プログラムを開発する素材となる関数を集めたプログラム。\n",
    "- X Window System\n",
    "- プログラム開発環境\n",
    "    - インタプリタとしては、bash, Python, Perl,コンパイラとしては、C, C++, Java開発環境を提供\n",
    "- サービスプログラム\n",
    "    - Linux内で常駐してサービスを提供。例:sshd\n",
    "- コマンド/ユーティリティ\n",
    "    - GUIでは、表計算ソフト、Webブラウザを提供。また、ユーザー管理、ネットワーク管理用のコマンドを提供\n",
    "- モジュール、パッケージ、ライブラリの関係\n",
    "    - モジュール　<　パッケージ　<=　ライブラリ"
   ]
  },
  {
   "cell_type": "markdown",
   "metadata": {
    "slideshow": {
     "slide_type": "slide"
    }
   },
   "source": [
    "## ディストリビューションとは\n",
    "---\n",
    "**1991年に公開されたLinuxカーネルを基に、LinuxがOSとして、動作するようにパッケージ化し、配布(distribute)するソフトウェアをディストリビューションと呼ぶ (一般的にLinuxとは、Linuxカーネルのことを指す)**  \n",
    "- フリーソフトウェア  \n",
    "    - GPL(GNU General Public License)の下に配布されるソフトウェアのこと\n",
    "- オープンソフトウェア  \n",
    "    - ソースコードが公開され、再配布が自由なソフトウェア\n",
    "- プロプライエタリソフトウェア\n",
    "    - 配布元の許可を得ることなく改変やコピーが禁止されたソフトウェア。バイナリのみが公開され、ソースは公開されない。"
   ]
  },
  {
   "cell_type": "markdown",
   "metadata": {
    "slideshow": {
     "slide_type": "subslide"
    }
   },
   "source": [
    "## GPL \n",
    "--- \n",
    "**コピーレフトの考えに基づいている**\n",
    "\n",
    "1. バイナリを再配布する場合は、そのソースコードを公開しなければならない。\n",
    "2. 開発、変更、配布、使用は自由\n",
    "3. GPLによって配布されたソフトウェアを元に開発・変更されたソフトウェアは必ず、また、GPLに基づいて配布しなければならない。(私的利用の場合は、配布しなくてOK)"
   ]
  },
  {
   "cell_type": "markdown",
   "metadata": {
    "slideshow": {
     "slide_type": "slide"
    }
   },
   "source": [
    "## パッケージ管理\n",
    "---\n",
    "**パッケージ管理の方式は1.Redhat系 2.Ubuntu/Debian系、3. それ以外の大きく3つ**   \n",
    "基本的にapt/yumコマンドを使うが、リポジトリの操作には、dpkg/rpmコマンドを使う。リポジトリとは、パッケージ群が置かれたストレージ。\n",
    "<img src=\"fig/主なパッケージ形式と管理コマンド.png\">"
   ]
  },
  {
   "cell_type": "markdown",
   "metadata": {
    "slideshow": {
     "slide_type": "slide"
    }
   },
   "source": [
    "## ディストリビューションのシェア\n",
    "---\n",
    "<img src=\"fig/Webサーバーのシェア.png\">"
   ]
  },
  {
   "cell_type": "markdown",
   "metadata": {
    "slideshow": {
     "slide_type": "subslide"
    }
   },
   "source": [
    "## ディストリビューションのシェア\n",
    "---\n",
    "\n",
    "**TODO:OpenStackについて理解**\n",
    "<img src=\"fig/開発プラットフォームのシェア.png\">"
   ]
  },
  {
   "cell_type": "markdown",
   "metadata": {
    "slideshow": {
     "slide_type": "subslide"
    }
   },
   "source": [
    "## ディストリビューションのシェア\n",
    "---\n",
    "\n",
    "<img src=\"fig/クラウドのシェア.png\">"
   ]
  },
  {
   "cell_type": "markdown",
   "metadata": {
    "slideshow": {
     "slide_type": "subslide"
    }
   },
   "source": [
    "## ディストリビューションの人気度  \n",
    "---  \n",
    "**ディストリビューションの人気度をページへのアクセス数と定義**  \n",
    "<img src=\"fig/ディストリビューションの人気度.png\">"
   ]
  },
  {
   "cell_type": "markdown",
   "metadata": {
    "slideshow": {
     "slide_type": "slide"
    }
   },
   "source": [
    "## ディストリビューションの種類\n",
    "---\n",
    "\n",
    "- 企業向けディストリビューション\n",
    "    - RedHat EnterPrise Linux, SUSE Linux EnterPrise Serverの2つ\n",
    "    - 有償のサブスクリプション契約により、サポートが受けれる。また、稼働安定性は高い\n",
    "- 一般ユーザー向け(RedHat系)ディストリビューション\n",
    "    - CentOS, Scientific Linux, Fedore, openSUSE\n",
    "    - パッケージ管理にrpmを採用しているものをRedHat系と呼ぶ\n",
    "- 一般ユーザー向け(Ubuntu/Debian系)ディストリビューション\n",
    "    - Ubuntu, Debian, Linux Mint, elementary OS\n",
    "    - パッケージ管理にdpkgを採用しているものをUbuntu/Debian系と呼ぶ\n",
    "- 一般ユーザー向け(独自パッケージ管理)ディストリビューション \n",
    "    - Gentoo Linux, Arch Linux, Manjaro Linux, Gooogle Chrome OS, Android \n",
    "    - RedHat系, Ubuntu/Debian系以外"
   ]
  },
  {
   "cell_type": "markdown",
   "metadata": {
    "slideshow": {
     "slide_type": "slide"
    }
   },
   "source": [
    "## 1.4 システムの初期設定を行う\n",
    "---"
   ]
  },
  {
   "cell_type": "markdown",
   "metadata": {
    "slideshow": {
     "slide_type": "slide"
    }
   },
   "source": [
    "## システムの初期設定を行う(CentOS)\n",
    "---\n",
    "**Ubuntu/CentOSをインストール後の操作を理解しておくと、サーバー管理に役に立つかも**  \n",
    "- インストール時のパッケージの情報を確認\n",
    "    - 必要なパッケージが入っているか (玄人向け?)\n",
    "- アップデート\n",
    "    - バグ修正や機能改善常時行われているの基本的には最新パッケージにしておく。\n",
    "- SELinuxの状態確認と無効化\n",
    "    - Security-Enhanced Linuxの略\n",
    "    - セキュリティを強固にするために、ディレクトリ・ファイル等のリソースに対して、アクセス制限を(rootにも)かけることができる。\n",
    "- ファイヤーウォールの状態確認と停止\n",
    "    - ネットワークからの不正なアクセスを阻止する仕組み\n",
    "    - 特定のポートのアクセス制御ができる。\n",
    "    - CentOSでは、**firewall**コマンドを使う"
   ]
  },
  {
   "cell_type": "markdown",
   "metadata": {
    "slideshow": {
     "slide_type": "subslide"
    }
   },
   "source": [
    "## システムの初期設定を行う(Ubuntu)\n",
    "--- \n",
    "- インストール時のパッケージの情報を確認\n",
    "    - コマンドは異なるが目的は、CentOSと同様\n",
    "- アップデート\n",
    "    - コマンドは異なるが目的は、CentOSと同様\n",
    "- AppArmorの状態確認\n",
    "    - SELinuxと同様、リソースへのアクセス制御ができる。\n",
    "    - SELinuxより設定は容易だが、細かな設定はできない模様\n",
    "- ファイアーウォールの状態確認\n",
    "    - Ubuntuでは**firewall**コマンドがデフォルトでは、インストールされておらず、インストールする必要がある。\n",
    "    - その他は、CentOSとほぼ同様"
   ]
  },
  {
   "cell_type": "markdown",
   "metadata": {
    "slideshow": {
     "slide_type": "slide"
    }
   },
   "source": [
    "# 1.5 sshによるリモートログイン\n",
    "---"
   ]
  },
  {
   "cell_type": "markdown",
   "metadata": {
    "slideshow": {
     "slide_type": "slide"
    }
   },
   "source": [
    "## リモートログインとは\n",
    "---\n",
    "**ローカルホストからネットワーク上にある他のホストへログインを行うことをリモートログインという**  \n",
    "- リモートログインするためのコマンドは様々\n",
    "- telnet \n",
    "    - 通信内容を暗号化しないので、使わないように\n",
    "- ssh \n",
    "    - 通信内容を公開鍵認証によって暗号化\n",
    "- mosh \n",
    "    - sshの改良版。\n",
    "    - 不安定な通信環境でも快適にリモートログインできる (使ったことないが、、)"
   ]
  },
  {
   "cell_type": "markdown",
   "metadata": {
    "slideshow": {
     "slide_type": "slide"
    }
   },
   "source": [
    "## ssh接続の手順\n",
    "--- \n",
    "1. ログイン先のサーバーでsshd (sshデーモン)を起動  \n",
    "    - sshdの初期設定は、ssh接続に22番ポートを使っている。\n",
    "    - 接続ポートを変更することで、不正アクセスされにくくなる。\n",
    "2. ssh接続 "
   ]
  },
  {
   "cell_type": "code",
   "execution_count": 11,
   "metadata": {
    "slideshow": {
     "slide_type": "slide"
    }
   },
   "outputs": [
    {
     "data": {
      "text/plain": [
       "'/home/thagio/job/03_jfcr/mail/02_pgm'"
      ]
     },
     "execution_count": 11,
     "metadata": {},
     "output_type": "execute_result"
    }
   ],
   "source": [
    "pwd"
   ]
  }
 ],
 "metadata": {
  "celltoolbar": "Slideshow",
  "kernelspec": {
   "display_name": "Python 3",
   "language": "python",
   "name": "python3"
  },
  "language_info": {
   "codemirror_mode": {
    "name": "ipython",
    "version": 3
   },
   "file_extension": ".py",
   "mimetype": "text/x-python",
   "name": "python",
   "nbconvert_exporter": "python",
   "pygments_lexer": "ipython3",
   "version": "3.7.4"
  }
 },
 "nbformat": 4,
 "nbformat_minor": 4
}
